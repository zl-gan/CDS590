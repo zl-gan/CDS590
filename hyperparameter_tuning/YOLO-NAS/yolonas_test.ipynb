{
 "cells": [
  {
   "cell_type": "code",
   "execution_count": 1,
   "metadata": {},
   "outputs": [
    {
     "name": "stderr",
     "output_type": "stream",
     "text": [
      "[2023-06-29 12:41:29] INFO - crash_tips_setup.py - Crash tips is enabled. You can set your environment variable to CRASH_HANDLER=FALSE to disable it\n"
     ]
    },
    {
     "name": "stdout",
     "output_type": "stream",
     "text": [
      "The console stream is logged into /home/computervision_zl/sg_logs/console.log\n"
     ]
    },
    {
     "name": "stderr",
     "output_type": "stream",
     "text": [
      "/usr/local/lib/python3.8/dist-packages/scipy/__init__.py:146: UserWarning: A NumPy version >=1.16.5 and <1.23.0 is required for this version of SciPy (detected version 1.23.0\n",
      "  warnings.warn(f\"A NumPy version >={np_minversion} and <{np_maxversion}\"\n"
     ]
    }
   ],
   "source": [
    "# import necessary packages\n",
    "import super_gradients"
   ]
  },
  {
   "cell_type": "code",
   "execution_count": 2,
   "metadata": {},
   "outputs": [],
   "source": [
    "# initialize trainer\n",
    "from super_gradients import Trainer\n",
    "from super_gradients.training import MultiGPUMode\n",
    "from super_gradients.training.metrics import DetectionMetrics_050"
   ]
  },
  {
   "cell_type": "code",
   "execution_count": 3,
   "metadata": {},
   "outputs": [],
   "source": [
    "# importing models from supergradients\n",
    "from super_gradients.training import models"
   ]
  },
  {
   "cell_type": "code",
   "execution_count": 4,
   "metadata": {},
   "outputs": [],
   "source": [
    "# instantiate the dataset\n",
    "from super_gradients.training.datasets.detection_datasets.coco_format_detection import COCOFormatDetectionDataset\n",
    "from super_gradients.training.transforms.transforms import DetectionMosaic, DetectionRandomAffine, DetectionHSV, \\\n",
    "    DetectionHorizontalFlip, DetectionPaddedRescale, DetectionStandardize, DetectionTargetsFormatTransform\n",
    "from super_gradients.training.utils.detection_utils import DetectionCollateFN\n",
    "from super_gradients.training import dataloaders\n",
    "from super_gradients.training.datasets.datasets_utils import worker_init_reset_seed\n",
    "\n",
    "\n",
    "testset = COCOFormatDetectionDataset(data_dir=\"dataset\",\n",
    "                                     images_dir=\"images/test\",\n",
    "                                     json_annotation_file=\"annotations/test_coco.json\",\n",
    "                                     input_dim=(640, 640),\n",
    "                                     ignore_empty_annotations=False,\n",
    "                                     transforms=[\n",
    "                                         DetectionPaddedRescale(input_dim=(640, 640), max_targets=300),\n",
    "                                         DetectionStandardize(max_value=255),\n",
    "                                         DetectionTargetsFormatTransform(max_targets=300, input_dim=(640, 640),\n",
    "                                                                         output_format=\"LABEL_CXCYWH\")\n",
    "                                     ])"
   ]
  },
  {
   "cell_type": "code",
   "execution_count": 5,
   "metadata": {},
   "outputs": [],
   "source": [
    "# configure dataloader\n",
    "\n",
    "test_loader_8 = dataloaders.get(dataset=testset, dataloader_params={\n",
    "    \"shuffle\": False,\n",
    "    \"batch_size\": 8,\n",
    "    \"num_workers\": 8,\n",
    "    \"drop_last\": False,\n",
    "    \"pin_memory\": True,\n",
    "    \"collate_fn\": DetectionCollateFN(),\n",
    "    \"worker_init_fn\": worker_init_reset_seed\n",
    "})\n",
    "\n",
    "test_loader_16 = dataloaders.get(dataset=testset, dataloader_params={\n",
    "    \"shuffle\": False,\n",
    "    \"batch_size\": 16,\n",
    "    \"num_workers\": 8,\n",
    "    \"drop_last\": False,\n",
    "    \"pin_memory\": True,\n",
    "    \"collate_fn\": DetectionCollateFN(),\n",
    "    \"worker_init_fn\": worker_init_reset_seed\n",
    "})"
   ]
  },
  {
   "cell_type": "code",
   "execution_count": 6,
   "metadata": {},
   "outputs": [],
   "source": [
    "# training setup\n",
    "from super_gradients.training import training_hyperparams\n",
    "from super_gradients.training import dataloaders\n",
    "# dataloader setup\n",
    "from super_gradients.training.models.detection_models.pp_yolo_e import PPYoloEPostPredictionCallback\n",
    "from pprint import pprint\n",
    "\n",
    "from super_gradients.common.environment.cfg_utils import load_recipe\n"
   ]
  },
  {
   "attachments": {},
   "cell_type": "markdown",
   "metadata": {},
   "source": [
    "# Test\n",
    "\n",
    "___________________"
   ]
  },
  {
   "cell_type": "code",
   "execution_count": 7,
   "metadata": {},
   "outputs": [],
   "source": [
    "from time import sleep\n",
    "\n",
    "# Hyperparameters\n",
    "params = [\n",
    "    {'batch': 8, 'lr': 0.001, 'optimizer': 'Adam'},\n",
    "    {'batch': 8, 'lr': 0.001, 'optimizer': 'SGD'},\n",
    "    {'batch': 8, 'lr': 0.01, 'optimizer': 'Adam'},\n",
    "    {'batch': 8, 'lr': 0.01, 'optimizer': 'SGD'},\n",
    "    {'batch': 16, 'lr': 0.001, 'optimizer': 'Adam'},\n",
    "    {'batch': 16, 'lr': 0.001, 'optimizer': 'SGD'},\n",
    "    {'batch': 16, 'lr': 0.01, 'optimizer': 'Adam'},\n",
    "    {'batch': 16, 'lr': 0.01, 'optimizer': 'SGD'}\n",
    "]"
   ]
  },
  {
   "cell_type": "code",
   "execution_count": 8,
   "metadata": {},
   "outputs": [
    {
     "name": "stdout",
     "output_type": "stream",
     "text": [
      "loading annotations into memory...\n",
      "Done (t=0.01s)\n",
      "creating index...\n",
      "index created!\n"
     ]
    },
    {
     "name": "stderr",
     "output_type": "stream",
     "text": [
      "Caching annotations: 100%|██████████| 512/512 [00:00<00:00, 9009.22it/s]\n",
      "Test: 100%|██████████| 64/64 [00:06<00:00, 10.34it/s]\n"
     ]
    },
    {
     "name": "stdout",
     "output_type": "stream",
     "text": [
      "{'Precision@0.50': tensor(0.1153), 'Recall@0.50': tensor(0.9464), 'mAP@0.50': tensor(0.7784), 'F1@0.50': tensor(0.1887)}\n"
     ]
    }
   ],
   "source": [
    "# Experiment 1    {'batch': 8, 'lr': 0.001, 'optimizer': 'Adam'}\n",
    "model = models.get(\"yolo_nas_m\", checkpoint_path=\"/home/computervision_zl/Documents/yolonas/notebook_ckpts/YOLONAS_1/ckpt_best.pth\", num_classes=13)\n",
    "\n",
    "CHECKPOINT_DIR = 'notebook_ckpts_test/'\n",
    "trainer = Trainer(experiment_name=f'YOLONAS_1', ckpt_root_dir=CHECKPOINT_DIR)\n",
    "\n",
    "print(\n",
    "    trainer.test(\n",
    "        model=model,\n",
    "        test_loader=test_loader_8,\n",
    "        test_metrics_list=DetectionMetrics_050(\n",
    "            score_thres=0.1, \n",
    "            top_k_predictions=300, \n",
    "            num_cls=13, \n",
    "            normalize_targets=True, \n",
    "            post_prediction_callback=PPYoloEPostPredictionCallback(\n",
    "                score_threshold=0.01, \n",
    "                nms_top_k=1000, \n",
    "                max_predictions=300,\n",
    "                nms_threshold=0.7)\n",
    "            )\n",
    "        )\n",
    ")\n",
    "\n",
    "del trainer\n",
    "sleep(5)"
   ]
  },
  {
   "cell_type": "code",
   "execution_count": 9,
   "metadata": {},
   "outputs": [
    {
     "name": "stderr",
     "output_type": "stream",
     "text": [
      "Test: 100%|██████████| 64/64 [00:04<00:00, 14.81it/s]\n"
     ]
    },
    {
     "name": "stdout",
     "output_type": "stream",
     "text": [
      "{'Precision@0.50': tensor(0.3574), 'Recall@0.50': tensor(0.9574), 'mAP@0.50': tensor(0.9064), 'F1@0.50': tensor(0.4976)}\n"
     ]
    }
   ],
   "source": [
    "# Experiment 2     {'batch': 8, 'lr': 0.001, 'optimizer': 'SGD'}\n",
    "model = models.get(\"yolo_nas_m\", checkpoint_path=\"/home/computervision_zl/Documents/yolonas/notebook_ckpts/YOLONAS_2/ckpt_best.pth\", num_classes=13)\n",
    "\n",
    "CHECKPOINT_DIR = 'notebook_ckpts_test/'\n",
    "trainer = Trainer(experiment_name=f'YOLONAS_2', ckpt_root_dir=CHECKPOINT_DIR)\n",
    "\n",
    "print(\n",
    "    trainer.test(\n",
    "        model=model,\n",
    "        test_loader=test_loader_8,\n",
    "        test_metrics_list=DetectionMetrics_050(\n",
    "            score_thres=0.1, \n",
    "            top_k_predictions=300, \n",
    "            num_cls=13, \n",
    "            normalize_targets=True, \n",
    "            post_prediction_callback=PPYoloEPostPredictionCallback(\n",
    "                score_threshold=0.01, \n",
    "                nms_top_k=1000, \n",
    "                max_predictions=300,\n",
    "                nms_threshold=0.7)\n",
    "            )\n",
    "        )\n",
    ")\n",
    "\n",
    "del trainer\n",
    "sleep(5)"
   ]
  },
  {
   "cell_type": "code",
   "execution_count": 10,
   "metadata": {},
   "outputs": [
    {
     "name": "stderr",
     "output_type": "stream",
     "text": [
      "Test: 100%|██████████| 64/64 [00:04<00:00, 14.33it/s]\n"
     ]
    },
    {
     "name": "stdout",
     "output_type": "stream",
     "text": [
      "{'Precision@0.50': tensor(0.0602), 'Recall@0.50': tensor(0.7476), 'mAP@0.50': tensor(0.3813), 'F1@0.50': tensor(0.1006)}\n"
     ]
    }
   ],
   "source": [
    "# Experiment 3    {'batch': 8, 'lr': 0.01, 'optimizer': 'Adam'}\n",
    "model = models.get(\"yolo_nas_m\", checkpoint_path=\"/home/computervision_zl/Documents/yolonas/notebook_ckpts/YOLONAS_3/ckpt_best.pth\", num_classes=13)\n",
    "\n",
    "CHECKPOINT_DIR = 'notebook_ckpts_test/'\n",
    "trainer = Trainer(experiment_name=f'YOLONAS_3', ckpt_root_dir=CHECKPOINT_DIR)\n",
    "\n",
    "print(\n",
    "    trainer.test(\n",
    "        model=model,\n",
    "        test_loader=test_loader_8,\n",
    "        test_metrics_list=DetectionMetrics_050(\n",
    "            score_thres=0.1, \n",
    "            top_k_predictions=300, \n",
    "            num_cls=13, \n",
    "            normalize_targets=True, \n",
    "            post_prediction_callback=PPYoloEPostPredictionCallback(\n",
    "                score_threshold=0.01, \n",
    "                nms_top_k=1000, \n",
    "                max_predictions=300,\n",
    "                nms_threshold=0.7)\n",
    "            )\n",
    "        )\n",
    ")\n",
    "\n",
    "del trainer\n",
    "sleep(5)"
   ]
  },
  {
   "cell_type": "code",
   "execution_count": 11,
   "metadata": {},
   "outputs": [
    {
     "name": "stderr",
     "output_type": "stream",
     "text": [
      "Test: 100%|██████████| 64/64 [00:04<00:00, 14.62it/s]\n"
     ]
    },
    {
     "name": "stdout",
     "output_type": "stream",
     "text": [
      "{'Precision@0.50': tensor(0.1637), 'Recall@0.50': tensor(0.9487), 'mAP@0.50': tensor(0.8288), 'F1@0.50': tensor(0.2607)}\n"
     ]
    }
   ],
   "source": [
    "# Experiment 4    {'batch': 8, 'lr': 0.01, 'optimizer': 'SGD'}\n",
    "model = models.get(\"yolo_nas_m\", checkpoint_path=\"/home/computervision_zl/Documents/yolonas/notebook_ckpts/YOLONAS_4/ckpt_best.pth\", num_classes=13)\n",
    "\n",
    "CHECKPOINT_DIR = 'notebook_ckpts_test/'\n",
    "trainer = Trainer(experiment_name=f'YOLONAS_4', ckpt_root_dir=CHECKPOINT_DIR)\n",
    "\n",
    "print(\n",
    "    trainer.test(\n",
    "        model=model,\n",
    "        test_loader=test_loader_8,\n",
    "        test_metrics_list=DetectionMetrics_050(\n",
    "            score_thres=0.1, \n",
    "            top_k_predictions=300, \n",
    "            num_cls=13, \n",
    "            normalize_targets=True, \n",
    "            post_prediction_callback=PPYoloEPostPredictionCallback(\n",
    "                score_threshold=0.01, \n",
    "                nms_top_k=1000, \n",
    "                max_predictions=300,\n",
    "                nms_threshold=0.7)\n",
    "            )\n",
    "        )\n",
    ")\n",
    "\n",
    "del trainer\n",
    "sleep(5)"
   ]
  },
  {
   "cell_type": "code",
   "execution_count": 12,
   "metadata": {},
   "outputs": [
    {
     "name": "stderr",
     "output_type": "stream",
     "text": [
      "Test: 100%|██████████| 32/32 [00:04<00:00,  6.46it/s]\n"
     ]
    },
    {
     "name": "stdout",
     "output_type": "stream",
     "text": [
      "{'Precision@0.50': tensor(0.1378), 'Recall@0.50': tensor(0.9537), 'mAP@0.50': tensor(0.7969), 'F1@0.50': tensor(0.2221)}\n"
     ]
    }
   ],
   "source": [
    "# Experiment 5    {'batch': 16, 'lr': 0.001, 'optimizer': 'Adam'}\n",
    "model = models.get(\"yolo_nas_m\", checkpoint_path=\"/home/computervision_zl/Documents/yolonas/notebook_ckpts/YOLONAS_5/ckpt_best.pth\", num_classes=13)\n",
    "\n",
    "CHECKPOINT_DIR = 'notebook_ckpts_test/'\n",
    "trainer = Trainer(experiment_name=f'YOLONAS_5', ckpt_root_dir=CHECKPOINT_DIR)\n",
    "\n",
    "print(\n",
    "    trainer.test(\n",
    "        model=model,\n",
    "        test_loader=test_loader_16,\n",
    "        test_metrics_list=DetectionMetrics_050(\n",
    "            score_thres=0.1, \n",
    "            top_k_predictions=300, \n",
    "            num_cls=13, \n",
    "            normalize_targets=True, \n",
    "            post_prediction_callback=PPYoloEPostPredictionCallback(\n",
    "                score_threshold=0.01, \n",
    "                nms_top_k=1000, \n",
    "                max_predictions=300,\n",
    "                nms_threshold=0.7)\n",
    "            )\n",
    "        )\n",
    ")\n",
    "\n",
    "del trainer\n",
    "sleep(5)"
   ]
  },
  {
   "cell_type": "code",
   "execution_count": 13,
   "metadata": {},
   "outputs": [
    {
     "name": "stderr",
     "output_type": "stream",
     "text": [
      "Test: 100%|██████████| 32/32 [00:04<00:00,  7.40it/s]\n"
     ]
    },
    {
     "name": "stdout",
     "output_type": "stream",
     "text": [
      "{'Precision@0.50': tensor(0.3356), 'Recall@0.50': tensor(0.9626), 'mAP@0.50': tensor(0.8992), 'F1@0.50': tensor(0.4737)}\n"
     ]
    }
   ],
   "source": [
    "# Experiment 6    {'batch': 16, 'lr': 0.001, 'optimizer': 'SGD'}\n",
    "model = models.get(\"yolo_nas_m\", checkpoint_path=\"/home/computervision_zl/Documents/yolonas/notebook_ckpts/YOLONAS_6/ckpt_best.pth\", num_classes=13)\n",
    "\n",
    "CHECKPOINT_DIR = 'notebook_ckpts_test/'\n",
    "trainer = Trainer(experiment_name=f'YOLONAS_6', ckpt_root_dir=CHECKPOINT_DIR)\n",
    "\n",
    "print(\n",
    "    trainer.test(\n",
    "        model=model,\n",
    "        test_loader=test_loader_16,\n",
    "        test_metrics_list=DetectionMetrics_050(\n",
    "            score_thres=0.1, \n",
    "            top_k_predictions=300, \n",
    "            num_cls=13, \n",
    "            normalize_targets=True, \n",
    "            post_prediction_callback=PPYoloEPostPredictionCallback(\n",
    "                score_threshold=0.01, \n",
    "                nms_top_k=1000, \n",
    "                max_predictions=300,\n",
    "                nms_threshold=0.7)\n",
    "            )\n",
    "        )\n",
    ")\n",
    "del trainer\n",
    "sleep(5)"
   ]
  },
  {
   "cell_type": "code",
   "execution_count": 14,
   "metadata": {},
   "outputs": [
    {
     "name": "stderr",
     "output_type": "stream",
     "text": [
      "Test: 100%|██████████| 32/32 [00:04<00:00,  7.00it/s]\n"
     ]
    },
    {
     "name": "stdout",
     "output_type": "stream",
     "text": [
      "{'Precision@0.50': tensor(0.0566), 'Recall@0.50': tensor(0.8112), 'mAP@0.50': tensor(0.3721), 'F1@0.50': tensor(0.0950)}\n"
     ]
    }
   ],
   "source": [
    "# Experiment 7    {'batch': 16, 'lr': 0.01, 'optimizer': 'Adam'}\n",
    "model = models.get(\"yolo_nas_m\", checkpoint_path=\"/home/computervision_zl/Documents/yolonas/notebook_ckpts/YOLONAS_7/ckpt_best.pth\", num_classes=13)\n",
    "\n",
    "CHECKPOINT_DIR = 'notebook_ckpts_test/'\n",
    "trainer = Trainer(experiment_name=f'YOLONAS_7', ckpt_root_dir=CHECKPOINT_DIR)\n",
    "\n",
    "print(\n",
    "    trainer.test(\n",
    "        model=model,\n",
    "        test_loader=test_loader_16,\n",
    "        test_metrics_list=DetectionMetrics_050(\n",
    "            score_thres=0.1, \n",
    "            top_k_predictions=300, \n",
    "            num_cls=13, \n",
    "            normalize_targets=True, \n",
    "            post_prediction_callback=PPYoloEPostPredictionCallback(\n",
    "                score_threshold=0.01, \n",
    "                nms_top_k=1000, \n",
    "                max_predictions=300,\n",
    "                nms_threshold=0.7)\n",
    "            )\n",
    "        )\n",
    ")\n",
    "\n",
    "del trainer\n",
    "sleep(5)"
   ]
  },
  {
   "cell_type": "code",
   "execution_count": 15,
   "metadata": {},
   "outputs": [
    {
     "name": "stderr",
     "output_type": "stream",
     "text": [
      "Test: 100%|██████████| 32/32 [00:04<00:00,  7.35it/s]\n"
     ]
    },
    {
     "name": "stdout",
     "output_type": "stream",
     "text": [
      "{'Precision@0.50': tensor(0.2715), 'Recall@0.50': tensor(0.9604), 'mAP@0.50': tensor(0.8933), 'F1@0.50': tensor(0.4033)}\n"
     ]
    }
   ],
   "source": [
    "# Experiment 8    {'batch': 16, 'lr': 0.01, 'optimizer': 'SGD'}\n",
    "model = models.get(\"yolo_nas_m\", checkpoint_path=\"/home/computervision_zl/Documents/yolonas/notebook_ckpts/YOLONAS_8/ckpt_best.pth\", num_classes=13)\n",
    "\n",
    "CHECKPOINT_DIR = 'notebook_ckpts_test/'\n",
    "trainer = Trainer(experiment_name=f'YOLONAS_8', ckpt_root_dir=CHECKPOINT_DIR)\n",
    "\n",
    "print(\n",
    "    trainer.test(\n",
    "        model=model,\n",
    "        test_loader=test_loader_16,\n",
    "        test_metrics_list=DetectionMetrics_050(\n",
    "            score_thres=0.1, \n",
    "            top_k_predictions=300, \n",
    "            num_cls=13, \n",
    "            normalize_targets=True, \n",
    "            post_prediction_callback=PPYoloEPostPredictionCallback(\n",
    "                score_threshold=0.01, \n",
    "                nms_top_k=1000, \n",
    "                max_predictions=300,\n",
    "                nms_threshold=0.7)\n",
    "            )\n",
    "        )\n",
    ")\n",
    "\n",
    "del trainer\n",
    "sleep(5)"
   ]
  }
 ],
 "metadata": {
  "kernelspec": {
   "display_name": "Python 3",
   "language": "python",
   "name": "python3"
  },
  "language_info": {
   "codemirror_mode": {
    "name": "ipython",
    "version": 3
   },
   "file_extension": ".py",
   "mimetype": "text/x-python",
   "name": "python",
   "nbconvert_exporter": "python",
   "pygments_lexer": "ipython3",
   "version": "3.8.10"
  },
  "orig_nbformat": 4
 },
 "nbformat": 4,
 "nbformat_minor": 2
}
